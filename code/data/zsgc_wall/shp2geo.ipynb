{
 "cells": [
  {
   "cell_type": "code",
   "execution_count": 4,
   "metadata": {},
   "outputs": [],
   "source": [
    "import geopandas as gpd"
   ]
  },
  {
   "cell_type": "code",
   "execution_count": 19,
   "metadata": {},
   "outputs": [],
   "source": [
    "\n",
    "file_name =\"E:\\\\indoorMap\\\\data\\\\zsgc2\\\\F9_Polygon.shp\""
   ]
  },
  {
   "cell_type": "code",
   "execution_count": 20,
   "metadata": {},
   "outputs": [],
   "source": [
    "data = gpd.read_file(file_name,encoding='gbk')\n",
    "data.to_file(\"E:\\\\indoorMap\\\\data\\\\result\\\\F9_Polygon.geojson\", driver='GeoJSON', encoding=\"utf-8\")"
   ]
  },
  {
   "cell_type": "code",
   "execution_count": 6,
   "metadata": {},
   "outputs": [],
   "source": [
    "for num in range(1,10):\n",
    "    file_name =\"E:\\\\indoorMap\\\\data\\\\zsgc2\\\\F\"+str(num)+\"_Point.shp\"\n",
    "    data = gpd.read_file(file_name,encoding='utf-8')\n",
    "    data.to_file(\"E:\\\\indoorMap\\\\data\\\\zsgc2\\\\F\"+str(num)+\"_Point.geojson\", driver='GeoJSON', encoding=\"utf-8\")"
   ]
  },
  {
   "cell_type": "code",
   "execution_count": null,
   "metadata": {},
   "outputs": [],
   "source": []
  }
 ],
 "metadata": {
  "interpreter": {
   "hash": "6d46af94c2bbce495f1e668725902fa517c90b1782bcfe2fce0dd9868df553d3"
  },
  "kernelspec": {
   "display_name": "Python 3.8.5 ('base')",
   "language": "python",
   "name": "python3"
  },
  "language_info": {
   "codemirror_mode": {
    "name": "ipython",
    "version": 3
   },
   "file_extension": ".py",
   "mimetype": "text/x-python",
   "name": "python",
   "nbconvert_exporter": "python",
   "pygments_lexer": "ipython3",
   "version": "3.8.5"
  },
  "orig_nbformat": 4
 },
 "nbformat": 4,
 "nbformat_minor": 2
}
